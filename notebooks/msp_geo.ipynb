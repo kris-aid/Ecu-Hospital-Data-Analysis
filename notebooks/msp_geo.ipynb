{
 "cells": [
  {
   "cell_type": "code",
   "id": "initial_id",
   "metadata": {
    "collapsed": true,
    "ExecuteTime": {
     "end_time": "2025-10-03T23:54:37.261256Z",
     "start_time": "2025-10-03T23:54:32.422682Z"
    }
   },
   "source": [
    "import pandas as pd\n",
    "import geopandas as gpd\n",
    "import matplotlib.pyplot as plt\n",
    "import folium\n",
    "from keplergl import KeplerGl\n"
   ],
   "outputs": [],
   "execution_count": 1
  },
  {
   "cell_type": "code",
   "id": "ac235e5472d79af6",
   "metadata": {
    "ExecuteTime": {
     "end_time": "2025-10-03T23:55:35.508094Z",
     "start_time": "2025-10-03T23:54:43.108323Z"
    }
   },
   "source": [
    "msp_data=pd.read_csv(\"../data/egresos_msp_final.csv\")"
   ],
   "outputs": [
    {
     "name": "stderr",
     "output_type": "stream",
     "text": [
      "C:\\Users\\Kristian Mendoza\\AppData\\Local\\Temp\\ipykernel_10684\\3375402420.py:1: DtypeWarning: Columns (8,14,28) have mixed types. Specify dtype option on import or set low_memory=False.\n",
      "  msp_data=pd.read_csv(\"../data/egresos_msp_final.csv\")\n"
     ]
    }
   ],
   "execution_count": 2
  },
  {
   "cell_type": "code",
   "id": "40079e61fccc8df6",
   "metadata": {
    "ExecuteTime": {
     "end_time": "2025-10-03T23:55:35.542314Z",
     "start_time": "2025-10-03T23:55:35.524317Z"
    }
   },
   "source": [
    "inec_parroquias=pd.read_csv(\"../data/parroquias_cantones_inec.csv\")"
   ],
   "outputs": [],
   "execution_count": 3
  },
  {
   "cell_type": "code",
   "id": "54675573d65ea792",
   "metadata": {
    "ExecuteTime": {
     "end_time": "2025-10-03T23:55:35.596173Z",
     "start_time": "2025-10-03T23:55:35.582398Z"
    }
   },
   "source": [
    "columns_to_strip_inec=[\"canton\",\"parroquia\"]\n",
    "for column in columns_to_strip_inec:\n",
    "    inec_parroquias[column] = inec_parroquias[column].str.strip()"
   ],
   "outputs": [],
   "execution_count": 4
  },
  {
   "cell_type": "code",
   "id": "db9a0487b31ff5ec",
   "metadata": {
    "ExecuteTime": {
     "end_time": "2025-10-03T23:55:35.635448Z",
     "start_time": "2025-10-03T23:55:35.627834Z"
    }
   },
   "source": [
    "msp_hospitales_with_coords={\"HOSPITAL BÁSICO FISCOMISIONAL FRANKLIN TELLO\":(-0.9189074317554865, -75.40111236050274),\n",
    "                            \"HOSPITAL DEL DIA MARIANA DE JESUS\":(-2.208323243432747, -79.92643781984766),\n",
    "                            \"HOSPITAL BASICO DE ATACAMES - JUAN CARLOS GUASTI\":(0.8738746305926328, -79.83894876985617),\n",
    "                            \"HOSPITAL BASICO DE TAISHA - SAN JOSE\":(-2.3890035307647115, -77.50822420427274),\n",
    "                            \"HOSPITAL CLAUDIO BENATI DE ZUMBAHUA\":(-0.9581614749564258, -78.89699937428749),\n",
    "}"
   ],
   "outputs": [],
   "execution_count": 5
  },
  {
   "cell_type": "code",
   "id": "e77d3462ffce7fbd",
   "metadata": {
    "ExecuteTime": {
     "end_time": "2025-10-03T23:55:39.994029Z",
     "start_time": "2025-10-03T23:55:35.662392Z"
    }
   },
   "source": [
    "for hospital, coords in msp_hospitales_with_coords.items():\n",
    "    lat, lon = coords\n",
    "    msp_data.loc[msp_data[\"nombre_centro_de_salud\"] == hospital, \"latgps\"] = lat\n",
    "    msp_data.loc[msp_data[\"nombre_centro_de_salud\"] == hospital, \"longps\"] = lon"
   ],
   "outputs": [],
   "execution_count": 6
  },
  {
   "cell_type": "code",
   "id": "75135ae9c46ba37b",
   "metadata": {
    "ExecuteTime": {
     "end_time": "2025-10-03T23:55:44.402030Z",
     "start_time": "2025-10-03T23:55:40.013109Z"
    }
   },
   "source": [
    "columns_to_strip_msp=[\"prov_res\",\"cant_res_std\",\"parr_res_std\"]\n",
    "\n",
    "for column in columns_to_strip_msp:\n",
    "    msp_data[column].fillna(\"\",inplace=True)\n",
    "    msp_data[column]=msp_data[column].astype(str)\n",
    "    msp_data[column] = msp_data[column].str.strip()\n"
   ],
   "outputs": [
    {
     "name": "stderr",
     "output_type": "stream",
     "text": [
      "C:\\Users\\Kristian Mendoza\\AppData\\Local\\Temp\\ipykernel_10684\\1686445103.py:4: FutureWarning: A value is trying to be set on a copy of a DataFrame or Series through chained assignment using an inplace method.\n",
      "The behavior will change in pandas 3.0. This inplace method will never work because the intermediate object on which we are setting values always behaves as a copy.\n",
      "\n",
      "For example, when doing 'df[col].method(value, inplace=True)', try using 'df.method({col: value}, inplace=True)' or df[col] = df[col].method(value) instead, to perform the operation inplace on the original object.\n",
      "\n",
      "\n",
      "  msp_data[column].fillna(\"\",inplace=True)\n",
      "C:\\Users\\Kristian Mendoza\\AppData\\Local\\Temp\\ipykernel_10684\\1686445103.py:4: FutureWarning: A value is trying to be set on a copy of a DataFrame or Series through chained assignment using an inplace method.\n",
      "The behavior will change in pandas 3.0. This inplace method will never work because the intermediate object on which we are setting values always behaves as a copy.\n",
      "\n",
      "For example, when doing 'df[col].method(value, inplace=True)', try using 'df.method({col: value}, inplace=True)' or df[col] = df[col].method(value) instead, to perform the operation inplace on the original object.\n",
      "\n",
      "\n",
      "  msp_data[column].fillna(\"\",inplace=True)\n",
      "C:\\Users\\Kristian Mendoza\\AppData\\Local\\Temp\\ipykernel_10684\\1686445103.py:4: FutureWarning: A value is trying to be set on a copy of a DataFrame or Series through chained assignment using an inplace method.\n",
      "The behavior will change in pandas 3.0. This inplace method will never work because the intermediate object on which we are setting values always behaves as a copy.\n",
      "\n",
      "For example, when doing 'df[col].method(value, inplace=True)', try using 'df.method({col: value}, inplace=True)' or df[col] = df[col].method(value) instead, to perform the operation inplace on the original object.\n",
      "\n",
      "\n",
      "  msp_data[column].fillna(\"\",inplace=True)\n"
     ]
    }
   ],
   "execution_count": 7
  },
  {
   "cell_type": "code",
   "id": "3e6ac7a26968f6d5",
   "metadata": {
    "ExecuteTime": {
     "end_time": "2025-10-03T23:55:44.448490Z",
     "start_time": "2025-10-03T23:55:44.429522Z"
    }
   },
   "source": [
    "inec_cantones=inec_parroquias[[\"provincia\",\"canton\",\"code_canton\"]].drop_duplicates()"
   ],
   "outputs": [],
   "execution_count": 8
  },
  {
   "cell_type": "code",
   "id": "9fa552b59f8b4c29",
   "metadata": {
    "ExecuteTime": {
     "end_time": "2025-10-03T23:55:57.286684Z",
     "start_time": "2025-10-03T23:55:44.523200Z"
    }
   },
   "source": [
    "# Merge de msp_data con inec_parroquias para obtener codigos de canton\n",
    "msp_data_canton_res=pd.merge(msp_data,inec_cantones[[\"provincia\",\"canton\",\"code_canton\"]],left_on=[\"prov_res\",\"cant_res_std\"],right_on=[\"provincia\",\"canton\"],how=\"left\").rename(columns={\"code_canton\":\"code_canton_res\"})"
   ],
   "outputs": [],
   "execution_count": 9
  },
  {
   "cell_type": "code",
   "id": "bd090f14e3feec9b",
   "metadata": {
    "ExecuteTime": {
     "end_time": "2025-10-03T23:55:59.550145Z",
     "start_time": "2025-10-03T23:55:57.316980Z"
    }
   },
   "source": [
    "msp_data_canton_res.drop(columns=[\"canton_y\",\"provincia_y\"],inplace=True)"
   ],
   "outputs": [],
   "execution_count": 10
  },
  {
   "cell_type": "code",
   "id": "5857291f0f6de272",
   "metadata": {
    "ExecuteTime": {
     "end_time": "2025-10-03T23:57:32.087073Z",
     "start_time": "2025-10-03T23:57:32.080935Z"
    }
   },
   "source": [
    "msp_data_canton_res.rename(columns={\"code_canton_y\":\"code_canton_res\",\"code_canton_x\":\"code_canton_ubi\"},inplace=True)"
   ],
   "outputs": [],
   "execution_count": 11
  },
  {
   "cell_type": "code",
   "id": "72b19ad621ad0515",
   "metadata": {
    "ExecuteTime": {
     "end_time": "2025-10-03T23:57:33.562816Z",
     "start_time": "2025-10-03T23:57:33.444592Z"
    }
   },
   "source": [
    "msp_data_hospitales=msp_data[[\"nombre_centro_de_salud\",\"latgps\",\"longps\"]]"
   ],
   "outputs": [],
   "execution_count": 12
  },
  {
   "cell_type": "code",
   "id": "8c3f4fd509564663",
   "metadata": {
    "ExecuteTime": {
     "end_time": "2025-10-03T23:57:35.294425Z",
     "start_time": "2025-10-03T23:57:35.036338Z"
    }
   },
   "source": [
    "msp_data_hospitales=msp_data_hospitales.drop_duplicates(subset=[\"nombre_centro_de_salud\"])"
   ],
   "outputs": [],
   "execution_count": 13
  },
  {
   "metadata": {
    "ExecuteTime": {
     "end_time": "2025-10-03T23:57:41.063991Z",
     "start_time": "2025-10-03T23:57:36.289069Z"
    }
   },
   "cell_type": "code",
   "source": [
    "cantones = gpd.read_file(\"../data/organizacion-territorial-cantonal/ORGANIZACION_TERRITORIAL_CANTONAL.shp\")\n",
    "# Ver el CRS actual\n",
    "print(cantones.crs)\n",
    "# Convertir a lat/lon (EPSG:4326)\n",
    "cantones = cantones.to_crs(epsg=4326)\n",
    "cantones[\"centroid\"] = cantones.geometry.centroid\n",
    "cantones[\"lat_canton\"] = cantones.centroid.y\n",
    "cantones[\"lon_canton\"] = cantones.centroid.x\n",
    "cantones[\"DPA_CANTON\"] = \"EC\" + cantones[\"DPA_CANTON\"].astype(str)\n",
    "cantones.rename(columns={\"DPA_CANTON\":\"code_canton\"},inplace=True)"
   ],
   "id": "9fc534b11076916f",
   "outputs": [
    {
     "name": "stdout",
     "output_type": "stream",
     "text": [
      "EPSG:32717\n"
     ]
    },
    {
     "name": "stderr",
     "output_type": "stream",
     "text": [
      "C:\\Users\\Kristian Mendoza\\AppData\\Local\\Temp\\ipykernel_10684\\2898922900.py:6: UserWarning: Geometry is in a geographic CRS. Results from 'centroid' are likely incorrect. Use 'GeoSeries.to_crs()' to re-project geometries to a projected CRS before this operation.\n",
      "\n",
      "  cantones[\"centroid\"] = cantones.geometry.centroid\n",
      "C:\\Users\\Kristian Mendoza\\AppData\\Local\\Temp\\ipykernel_10684\\2898922900.py:7: UserWarning: Geometry is in a geographic CRS. Results from 'centroid' are likely incorrect. Use 'GeoSeries.to_crs()' to re-project geometries to a projected CRS before this operation.\n",
      "\n",
      "  cantones[\"lat_canton\"] = cantones.centroid.y\n",
      "C:\\Users\\Kristian Mendoza\\AppData\\Local\\Temp\\ipykernel_10684\\2898922900.py:8: UserWarning: Geometry is in a geographic CRS. Results from 'centroid' are likely incorrect. Use 'GeoSeries.to_crs()' to re-project geometries to a projected CRS before this operation.\n",
      "\n",
      "  cantones[\"lon_canton\"] = cantones.centroid.x\n"
     ]
    }
   ],
   "execution_count": 14
  },
  {
   "metadata": {
    "ExecuteTime": {
     "end_time": "2025-10-03T23:57:41.081400Z",
     "start_time": "2025-10-03T23:57:41.072997Z"
    }
   },
   "cell_type": "code",
   "source": "msp_data.columns",
   "id": "5403a895c8bdb5b3",
   "outputs": [
    {
     "data": {
      "text/plain": [
       "Index(['area_ubi', 'clase', 'tipo', 'entidad_x', 'sector', 'mes_inv',\n",
       "       'nac_pac', 'nom_pais', 'cod_pais', 'sexo', 'cod_edad', 'edad', 'etnia',\n",
       "       'prov_res', 'area_res', 'anio_ingr', 'mes_ingr', 'dia_ingr',\n",
       "       'fecha_ingr', 'anio_egr', 'mes_egr', 'dia_egr', 'fecha_egr',\n",
       "       'dia_estad', 'con_egrpa', 'esp_egrpa', 'cau_cie10', 'causa3',\n",
       "       'cap221rx', 'cau221rx', 'cau298rx', 'cant_ubi_std_x', 'parr_ubi_std_x',\n",
       "       'cant_res_std', 'parr_res_std', 'ruc', 'eod', 'unicodigo_geosalud',\n",
       "       'nombre_centro_de_salud', 'nivel_de_atencion', 'direccion', 'longps',\n",
       "       'latgps', 'code_provincia_x', 'provincia', 'code_canton', 'canton',\n",
       "       'code_parroquia', 'sri_parroquia', 'parroquia'],\n",
       "      dtype='object')"
      ]
     },
     "execution_count": 15,
     "metadata": {},
     "output_type": "execute_result"
    }
   ],
   "execution_count": 15
  },
  {
   "cell_type": "code",
   "id": "47df75a578d65bb",
   "metadata": {
    "ExecuteTime": {
     "end_time": "2025-10-03T23:57:41.376732Z",
     "start_time": "2025-10-03T23:57:41.237190Z"
    }
   },
   "source": [
    "msp_data_2015=msp_data_canton_res[msp_data_canton_res[\"anio_ingr\"]==2024.0]\n",
    "#msp_data_2015=msp_data_canton_res.copy()"
   ],
   "outputs": [],
   "execution_count": 16
  },
  {
   "cell_type": "code",
   "id": "99fa2d1551cb1be1",
   "metadata": {
    "ExecuteTime": {
     "end_time": "2025-10-03T23:57:44.510618Z",
     "start_time": "2025-10-03T23:57:44.471563Z"
    }
   },
   "source": [
    "msp_data_2015_sample = msp_data_2015[[\"clase\",\"tipo\",\"nac_pac\",\"sexo\",\"edad\",\"etnia\",\"esp_egrpa\",\"nombre_centro_de_salud\",\"code_parroquia\",\"parroquia\",\"code_canton_ubi\",\"latgps\",\"longps\",\"code_canton_res\",\"cau298rx\",\"cau221rx\",\"fecha_ingr\"]]"
   ],
   "outputs": [],
   "execution_count": 17
  },
  {
   "cell_type": "code",
   "id": "108e09c2",
   "metadata": {
    "ExecuteTime": {
     "end_time": "2025-10-03T23:57:46.097323Z",
     "start_time": "2025-10-03T23:57:46.036747Z"
    }
   },
   "source": [
    "msp_data_2015_sample[\"fecha_ingr\"] = pd.to_datetime(msp_data_2015_sample[\"fecha_ingr\"])\n"
   ],
   "outputs": [
    {
     "name": "stderr",
     "output_type": "stream",
     "text": [
      "C:\\Users\\Kristian Mendoza\\AppData\\Local\\Temp\\ipykernel_10684\\3089088071.py:1: SettingWithCopyWarning: \n",
      "A value is trying to be set on a copy of a slice from a DataFrame.\n",
      "Try using .loc[row_indexer,col_indexer] = value instead\n",
      "\n",
      "See the caveats in the documentation: https://pandas.pydata.org/pandas-docs/stable/user_guide/indexing.html#returning-a-view-versus-a-copy\n",
      "  msp_data_2015_sample[\"fecha_ingr\"] = pd.to_datetime(msp_data_2015_sample[\"fecha_ingr\"])\n"
     ]
    }
   ],
   "execution_count": 18
  },
  {
   "cell_type": "code",
   "execution_count": null,
   "id": "af314dd9",
   "metadata": {},
   "outputs": [],
   "source": []
  },
  {
   "cell_type": "markdown",
   "id": "c2a3e21617f00d3b",
   "metadata": {},
   "source": [
    "## Flujos DE PACIENTES POR ESPECIALIDAD"
   ]
  },
  {
   "cell_type": "code",
   "id": "e12f1ce8e16c491d",
   "metadata": {
    "ExecuteTime": {
     "end_time": "2025-10-03T23:57:48.482970Z",
     "start_time": "2025-10-03T23:57:48.360533Z"
    }
   },
   "source": [
    "#agrupamos pacientes por cantón de residencia, hospital y causa de ingreso\n",
    "\n",
    "flujos = (\n",
    "    msp_data_2015_sample.groupby([\"clase\",\"code_canton_res\", \"nombre_centro_de_salud\", \"esp_egrpa\",])\n",
    "      .size()\n",
    "      .reset_index(name=\"conteo\")\n",
    ")\n"
   ],
   "outputs": [],
   "execution_count": 19
  },
  {
   "cell_type": "code",
   "id": "d533346178fac736",
   "metadata": {
    "ExecuteTime": {
     "end_time": "2025-10-03T23:57:49.826885Z",
     "start_time": "2025-10-03T23:57:49.814Z"
    }
   },
   "source": [
    "# Merge con cantones (origen)\n",
    "flujos = flujos.merge(\n",
    "    cantones[[\"code_canton\", \"lat_canton\", \"lon_canton\",\"DPA_DESCAN\"]],\n",
    "    left_on=\"code_canton_res\",\n",
    "    right_on=\"code_canton\",\n",
    "    how=\"left\"\n",
    ").rename(columns={\"lat_canton\": \"lat_origen\", \"lon_canton\": \"lon_origen\",\"DPA_DESCAN\":\"canton_origen\"}).drop(columns=[\"code_canton\"])"
   ],
   "outputs": [],
   "execution_count": 20
  },
  {
   "cell_type": "code",
   "id": "616bd1c49ee62b55",
   "metadata": {
    "ExecuteTime": {
     "end_time": "2025-10-03T23:57:51.526107Z",
     "start_time": "2025-10-03T23:57:51.517842Z"
    }
   },
   "source": [
    "# Merge con hospitales (destino)\n",
    "flujos = flujos.merge(\n",
    "    msp_data_hospitales,\n",
    "    on=\"nombre_centro_de_salud\",\n",
    "    how=\"left\"\n",
    ").rename(columns={\"latgps\": \"lat_dest\", \"longps\": \"lon_dest\"})\n"
   ],
   "outputs": [],
   "execution_count": 21
  },
  {
   "cell_type": "markdown",
   "id": "9ee4453c",
   "metadata": {},
   "source": [
    "## FLUJOS DE PACIENTES POR ESPECIALIDAD y FECHA"
   ]
  },
  {
   "cell_type": "code",
   "id": "3cb2b676",
   "metadata": {
    "ExecuteTime": {
     "end_time": "2025-10-03T23:57:54.547844Z",
     "start_time": "2025-10-03T23:57:54.190117Z"
    }
   },
   "source": [
    "\n",
    "#agrupamos pacientes por cantón de residencia, hospital y causa de ingreso\n",
    "flujos_fecha = (\n",
    "    msp_data_2015_sample\n",
    "      .groupby([\"code_canton_res\", \"nombre_centro_de_salud\", \"esp_egrpa\", \"fecha_ingr\",\"clase\"])\n",
    "      .size()\n",
    "      .reset_index(name=\"conteo\")\n",
    ")\n",
    "# Merge con cantones (origen)\n",
    "flujos_fecha = flujos_fecha.merge(\n",
    "    cantones[[\"code_canton\", \"lat_canton\", \"lon_canton\",\"DPA_DESCAN\"]],\n",
    "    left_on=\"code_canton_res\",\n",
    "    right_on=\"code_canton\",\n",
    "    how=\"left\"\n",
    ").rename(columns={\"lat_canton\": \"lat_origen\", \"lon_canton\": \"lon_origen\",\"DPA_DESCAN\":\"canton_origen\"}).drop(columns=[\"code_canton\"])\n",
    "# Merge con hospitales (destino)\n",
    "flujos_fecha = flujos_fecha.merge(\n",
    "    msp_data_hospitales,\n",
    "    on=\"nombre_centro_de_salud\",\n",
    "    how=\"left\"\n",
    ").rename(columns={\"latgps\": \"lat_dest\", \"longps\": \"lon_dest\"})\n"
   ],
   "outputs": [],
   "execution_count": 23
  },
  {
   "metadata": {},
   "cell_type": "code",
   "outputs": [],
   "execution_count": null,
   "source": [
    "flujos_fecha[\"origen\"] = list(zip(flujos_fecha[\"lon_origen\"], flujos_fecha[\"lat_origen\"]))  # (lon, lat)\n",
    "flujos_fecha[\"destino\"] = list(zip(flujos_fecha[\"lon_dest\"], flujos_fecha[\"lat_dest\"]))      # (lon, lat)\n",
    "flujos_fecha[\"fecha_ingr\"] = pd.to_datetime(flujos_fecha[\"fecha_ingr\"])\n",
    "flujos_fecha[\"fecha_ingr\"] = flujos_fecha[\"fecha_ingr\"].dt.strftime(\"%Y-%m-%dT%H:%M:%S\")\n"
   ],
   "id": "ba85dcf6e1139fa"
  },
  {
   "metadata": {
    "ExecuteTime": {
     "end_time": "2025-10-03T23:58:43.661512Z",
     "start_time": "2025-10-03T23:58:31.565294Z"
    }
   },
   "cell_type": "code",
   "source": [
    "from keplergl import KeplerGl\n",
    "\n",
    "mapa_fechas = KeplerGl(height=600)\n",
    "mapa_fechas.add_data(data=flujos_fecha, name=\"Flujos pacientes\")\n",
    "# Aqui van a editar el mapa y luego lo guardan en la siguiente celda\n",
    "mapa_fechas\n"
   ],
   "id": "e6e67117ed2e0638",
   "outputs": [
    {
     "name": "stdout",
     "output_type": "stream",
     "text": [
      "User Guide: https://docs.kepler.gl/docs/keplergl-jupyter\n",
      "Map saved to ../maps/msp_flujos_pacientes_fechas.html!\n"
     ]
    },
    {
     "data": {
      "text/plain": [
       "KeplerGl(data={'Flujos pacientes': {'index': [0, 1, 2, 3, 4, 5, 6, 7, 8, 9, 10, 11, 12, 13, 14, 15, 16, 17, 18…"
      ],
      "application/vnd.jupyter.widget-view+json": {
       "version_major": 2,
       "version_minor": 0,
       "model_id": "5420320199e34926ba208ece8a9d7e3d"
      }
     },
     "execution_count": 26,
     "metadata": {},
     "output_type": "execute_result"
    }
   ],
   "execution_count": 26
  },
  {
   "metadata": {},
   "cell_type": "markdown",
   "source": "# Flujos con kepler",
   "id": "657d212ec0af75b5"
  },
  {
   "metadata": {},
   "cell_type": "code",
   "outputs": [],
   "execution_count": null,
   "source": "mapa_fechas.save_to_html(file_name=\"../maps/msp_flujos_pacientes_fechas.html\")",
   "id": "c9104fcaf6805b8"
  },
  {
   "metadata": {},
   "cell_type": "code",
   "outputs": [],
   "execution_count": null,
   "source": [
    "# Crear tuplas de coordenadas\n",
    "flujos[\"origen\"] = list(zip(flujos[\"lon_origen\"], flujos[\"lat_origen\"]))  # (lon, lat)\n",
    "flujos[\"destino\"] = list(zip(flujos[\"lon_dest\"], flujos[\"lat_dest\"]))      # (lon, lat)\n"
   ],
   "id": "c85a9e09afc1f74"
  },
  {
   "metadata": {},
   "cell_type": "code",
   "outputs": [],
   "execution_count": null,
   "source": [
    "from keplergl import KeplerGl\n",
    "\n",
    "mapa = KeplerGl(height=600)\n",
    "mapa.add_data(data=flujos, name=\"Flujos Pacientes\")\n",
    "mapa"
   ],
   "id": "a11ad55353508e3b"
  },
  {
   "metadata": {},
   "cell_type": "code",
   "outputs": [],
   "execution_count": null,
   "source": "mapa.config",
   "id": "30bbe54a2cf1565b"
  },
  {
   "metadata": {},
   "cell_type": "code",
   "outputs": [],
   "execution_count": null,
   "source": [
    "\n",
    "import folium\n",
    "import numpy as np\n",
    "\n",
    "# Inicializar un mapa con fondo oscuro\n",
    "m = folium.Map(\n",
    "    location=[-1.831239, -78],  # centro aproximado de Ecuador\n",
    "    zoom_start=7,\n",
    "    tiles=\"CartoDB dark_matter\",\n",
    "    min_zoom=6,\n",
    "    max_zoom=15\n",
    ")\n",
    "\n",
    "# Escalador para ajustar tamaños de burbujas (ajústalo según tu variable)\n",
    "scaling_factor = 10\n",
    "\n",
    "# Supongamos que tu df tiene columnas:\n",
    "# nombre_centro_de_salud | latgps | longps | conteo_pacientes | sexo | edad\n",
    "for _, row in df_final_hombres.iterrows():\n",
    "    # Color según sexo (ejemplo)\n",
    "    if row[\"sexo\"] == \"Mujer\":\n",
    "        bubble_color = \"pink\"\n",
    "    elif row[\"sexo\"] == \"Hombre\":\n",
    "        bubble_color = \"lightblue\"\n",
    "    else:\n",
    "        bubble_color = \"grey\"\n",
    "\n",
    "    # Radio proporcional al conteo de pacientes\n",
    "    radius = np.sqrt(row[\"conteo_pacientes\"]) / scaling_factor\n",
    "\n",
    "    folium.CircleMarker(\n",
    "        location=[row[\"latgps\"], row[\"longps\"]],\n",
    "        radius=radius,\n",
    "        color=bubble_color,\n",
    "        fill=True,\n",
    "        fill_color=bubble_color,\n",
    "        fill_opacity=0.9,\n",
    "        tooltip=(\n",
    "            f\"<b>Hospital:</b> {row['nombre_centro_de_salud']}<br>\"\n",
    "            f\"<b>Pacientes:</b> {row['conteo_pacientes']}<br>\"\n",
    "            f\"<b>Sexo:</b> {row['sexo']}<br>\"\n",
    "            f\"<b>Edad promedio:</b> {row['edad']}\"\n",
    "        )\n",
    "    ).add_to(m)\n",
    "\n",
    "# Control de capas\n",
    "folium.LayerControl().add_to(m)\n",
    "\n",
    "m\n",
    "\n"
   ],
   "id": "69831b3a3cc9ba3d"
  }
 ],
 "metadata": {
  "kernelspec": {
   "display_name": "rodri_msp_geo",
   "language": "python",
   "name": "python3"
  },
  "language_info": {
   "codemirror_mode": {
    "name": "ipython",
    "version": 3
   },
   "file_extension": ".py",
   "mimetype": "text/x-python",
   "name": "python",
   "nbconvert_exporter": "python",
   "pygments_lexer": "ipython3",
   "version": "3.11.13"
  }
 },
 "nbformat": 4,
 "nbformat_minor": 5
}
